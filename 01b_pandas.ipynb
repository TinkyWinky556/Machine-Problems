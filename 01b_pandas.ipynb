{
  "nbformat": 4,
  "nbformat_minor": 0,
  "metadata": {
    "kernelspec": {
      "display_name": "Python 3",
      "language": "python",
      "name": "python3"
    },
    "language_info": {
      "codemirror_mode": {
        "name": "ipython",
        "version": 3
      },
      "file_extension": ".py",
      "mimetype": "text/x-python",
      "name": "python",
      "nbconvert_exporter": "python",
      "pygments_lexer": "ipython3",
      "version": "3.7.4"
    },
    "colab": {
      "name": "01b_pandas.ipynb",
      "provenance": []
    }
  },
  "cells": [
    {
      "cell_type": "markdown",
      "metadata": {
        "id": "BXDHu-t6FdOu"
      },
      "source": [
        "# Pokemon"
      ]
    },
    {
      "cell_type": "markdown",
      "metadata": {
        "id": "jdhf41FeFdOv"
      },
      "source": [
        "### Introduction:\n",
        "\n",
        "This time you will create the data.\n",
        "\n",
        "\n",
        "\n",
        "### Step 1. Import the necessary libraries"
      ]
    },
    {
      "cell_type": "code",
      "metadata": {
        "id": "N3cOdPJNFdOw"
      },
      "source": [
        "import pandas as pd"
      ],
      "execution_count": 3,
      "outputs": []
    },
    {
      "cell_type": "markdown",
      "metadata": {
        "id": "KcaXNE8ZFdOw"
      },
      "source": [
        "### Step 2. Create a data dictionary"
      ]
    },
    {
      "cell_type": "code",
      "metadata": {
        "collapsed": true,
        "id": "hB2K9TpbFdOx"
      },
      "source": [
        "raw_data = {\"name\": ['Bulbasaur', 'Charmander','Squirtle','Caterpie'],\n",
        "            \"evolution\": ['Ivysaur','Charmeleon','Wartortle','Metapod'],\n",
        "            \"type\": ['grass', 'fire', 'water', 'bug'],\n",
        "            \"hp\": [45, 39, 44, 45],\n",
        "            \"pokedex\": ['yes', 'no','yes','no']                        \n",
        "            }"
      ],
      "execution_count": null,
      "outputs": []
    },
    {
      "cell_type": "markdown",
      "metadata": {
        "id": "rJ-hrSmRFdOx"
      },
      "source": [
        "### Step 3. Assign it to a variable called pokemons."
      ]
    },
    {
      "cell_type": "code",
      "metadata": {
        "id": "3g3nVvqsi9du"
      },
      "source": [
        "pokemon = raw_data"
      ],
      "execution_count": null,
      "outputs": []
    },
    {
      "cell_type": "markdown",
      "metadata": {
        "id": "qW5wRghXFdOx"
      },
      "source": [
        "### Step 4. Ops...it seems the DataFrame columns are in alphabetical order. Place  the order of the columns as name, type, hp, evolution, pokedex"
      ]
    },
    {
      "cell_type": "code",
      "metadata": {
        "id": "Br4-5oEAqpbw"
      },
      "source": [
        "my_df = pd.DataFrame(pokemon, columns = [\"name\", \"type\", \"hp\", \"evolution\", \"pokedex\"], dtype = None)"
      ],
      "execution_count": null,
      "outputs": []
    },
    {
      "cell_type": "markdown",
      "metadata": {
        "id": "nyaZGWCoFdOy"
      },
      "source": [
        "### Step 5. Add another column called place, and insert what you have in mind."
      ]
    },
    {
      "cell_type": "code",
      "metadata": {
        "id": "9R45O3JCq7LO"
      },
      "source": [
        "my_df['place'] = pd.Series(['Viridian Forest', 'Rock Tunnel', 'Vermillion City', 'Rolling Fields'])"
      ],
      "execution_count": null,
      "outputs": []
    },
    {
      "cell_type": "markdown",
      "metadata": {
        "id": "7q0yxx-1FdOy"
      },
      "source": [
        "### Step 6. Present the data type of each column"
      ]
    },
    {
      "cell_type": "code",
      "metadata": {
        "id": "m4KyIRZZrvbb"
      },
      "source": [
        "print(my_df.info())"
      ],
      "execution_count": null,
      "outputs": []
    },
    {
      "cell_type": "markdown",
      "metadata": {
        "id": "J_WVqAT9FdOy"
      },
      "source": [
        "### BONUS: Create your own question and answer it."
      ]
    },
    {
      "cell_type": "markdown",
      "metadata": {
        "id": "m_1PaRAcsvq4"
      },
      "source": [
        "Step 7.\r\n",
        "<br>\r\n",
        "My Question :\r\n",
        "<br>\r\n",
        "Apply A Function To Increase The HP Of Each Pokemon."
      ]
    },
    {
      "cell_type": "code",
      "metadata": {
        "collapsed": true,
        "id": "tUSlkQutFdOy"
      },
      "source": [
        "def increase_pokemon_hp(hp_col_values):\r\n",
        "    if np.isnan(hp_col_values):\r\n",
        "        hp_col_values = 100\r\n",
        "    else:\r\n",
        "        hp_col_values += 100\r\n",
        "    return hp_col_values"
      ],
      "execution_count": null,
      "outputs": []
    },
    {
      "cell_type": "code",
      "metadata": {
        "id": "8SCWReFOvWLw"
      },
      "source": [
        "my_df[\"hp\"] = my_df[\"hp\"].apply(increase_pokemon_hp)"
      ],
      "execution_count": null,
      "outputs": []
    },
    {
      "cell_type": "code",
      "metadata": {
        "id": "mK1QbVoZvlfZ"
      },
      "source": [
        "print(my_df)"
      ],
      "execution_count": null,
      "outputs": []
    }
  ]
}